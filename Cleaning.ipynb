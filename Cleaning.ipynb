{
 "cells": [
  {
   "cell_type": "markdown",
   "metadata": {},
   "source": [
    "# Stocks vs Housing\n",
    "\n",
    "## Introduction\n",
    "\n",
    "This data set contains simulated data that mimics customer behavior on the Starbucks rewards mobile app.\n",
    "\n",
    "This data set contains data from RMBCI and CONF from 12019\n",
    "\n",
    "RMBI represents while conf reprsents\n",
    "\n",
    "Understanding the relationship between the two can help real estate developers plan construction or investors predict market confidence.\n",
    "\n",
    "Your task is to combine transaction, demographic and offer data to determine which demographic groups respond best to which offer type. \n",
    "\n",
    "Our task is to combnine RMBI, CONF, and ((SP comp?)) to determine which(if any) is the leading \n",
    "statistic.\n",
    "\n",
    "This data set is a simplified version of the real because it is daily.\n",
    "\n",
    "Assuming an invesment based on X?\n",
    "\n",
    "\n",
    "Dataset overview?\n",
    "\n",
    "Cleaning\n",
    "This makes data cleaning especially important and tricky.\n",
    "\n",
    "You'll also want to take into account that some demographic groups will make purchases even if they don't receive an offer. From a business perspective, if a customer is going to make a 10 dollar purchase without an offer anyway, you wouldn't want to send a buy 10 dollars get 2 dollars off offer. You'll want to try to assess what a certain demographic group will buy when not receiving any offers.\n",
    "\n",
    "Data Sets\n",
    "The data is contained in three files:\n",
    "\n",
    "portfolio.json - containing offer ids and meta data about each offer (duration, type, etc.)\n",
    "profile.json - demographic data for each customer\n",
    "transcript.json - records for transactions, offers received, offers viewed, and offers completed\n",
    "Here is the schema and explanation of each variable in the files:\n",
    "\n",
    "portfolio.json\n",
    "\n",
    "id (string) - offer id\n",
    "offer_type (string) - type of offer ie BOGO, discount, informational\n",
    "difficulty (int) - minimum required spend to complete an offer\n",
    "reward (int) - reward given for completing an offer\n",
    "duration (int) - time for offer to be open, in days\n",
    "channels (list of strings)\n",
    "profile.json\n",
    "\n",
    "age (int) - age of the customer\n",
    "became_member_on (int) - date when customer created an app account\n",
    "gender (str) - gender of the customer (note some entries contain 'O' for other rather than M or F)\n",
    "id (str) - customer id\n",
    "income (float) - customer's income\n",
    "transcript.json\n",
    "\n",
    "event (str) - record description (ie transaction, offer received, offer viewed, etc.)\n",
    "person (str) - customer id\n",
    "time (int) - time in hours since start of test. The data begins at time t=0\n",
    "value - (dict of strings) - either an offer id or transaction amount depending on the record"
   ]
  },
  {
   "cell_type": "code",
   "execution_count": 1,
   "metadata": {},
   "outputs": [],
   "source": [
    "import pandas as pd"
   ]
  },
  {
   "cell_type": "code",
   "execution_count": 6,
   "metadata": {},
   "outputs": [],
   "source": [
    "s = pd.read_csv('data/CONF.csv')\n",
    "h = pd.read_csv('data/RBCI.csv')\n",
    "c = pd.read_csv('data/COMP.csv')"
   ]
  },
  {
   "cell_type": "code",
   "execution_count": 8,
   "metadata": {},
   "outputs": [
    {
     "name": "stdout",
     "output_type": "stream",
     "text": [
      "<class 'pandas.core.frame.DataFrame'>\n",
      "RangeIndex: 130 entries, 0 to 129\n",
      "Data columns (total 4 columns):\n",
      " #   Column                      Non-Null Count  Dtype  \n",
      "---  ------                      --------------  -----  \n",
      " 0   Date                        130 non-null    object \n",
      " 1   Cost Index                  129 non-null    float64\n",
      " 2   U.S. Population (Millions)  129 non-null    float64\n",
      " 3   Long Rate                   130 non-null    float64\n",
      "dtypes: float64(3), object(1)\n",
      "memory usage: 4.2+ KB\n"
     ]
    }
   ],
   "source": [
    "h.info()"
   ]
  },
  {
   "cell_type": "code",
   "execution_count": 9,
   "metadata": {},
   "outputs": [
    {
     "name": "stdout",
     "output_type": "stream",
     "text": [
      "<class 'pandas.core.frame.DataFrame'>\n",
      "RangeIndex: 233 entries, 0 to 232\n",
      "Data columns (total 3 columns):\n",
      " #   Column          Non-Null Count  Dtype  \n",
      "---  ------          --------------  -----  \n",
      " 0   Date            233 non-null    object \n",
      " 1   Index Value     233 non-null    float64\n",
      " 2   Standard Error  233 non-null    float64\n",
      "dtypes: float64(2), object(1)\n",
      "memory usage: 5.6+ KB\n"
     ]
    }
   ],
   "source": [
    "s.info()"
   ]
  },
  {
   "cell_type": "code",
   "execution_count": 10,
   "metadata": {},
   "outputs": [
    {
     "name": "stdout",
     "output_type": "stream",
     "text": [
      "<class 'pandas.core.frame.DataFrame'>\n",
      "RangeIndex: 1788 entries, 0 to 1787\n",
      "Data columns (total 10 columns):\n",
      " #   Column                        Non-Null Count  Dtype  \n",
      "---  ------                        --------------  -----  \n",
      " 0   Year                          1788 non-null   object \n",
      " 1   S&P Composite                 1788 non-null   float64\n",
      " 2   Dividend                      1785 non-null   float64\n",
      " 3   Earnings                      1785 non-null   float64\n",
      " 4   CPI                           1788 non-null   float64\n",
      " 5   Long Interest Rate            1788 non-null   float64\n",
      " 6   Real Price                    1788 non-null   float64\n",
      " 7   Real Dividend                 1785 non-null   float64\n",
      " 8   Real Earnings                 1785 non-null   float64\n",
      " 9   Cyclically Adjusted PE Ratio  1668 non-null   float64\n",
      "dtypes: float64(9), object(1)\n",
      "memory usage: 139.8+ KB\n"
     ]
    }
   ],
   "source": [
    "c.info()"
   ]
  },
  {
   "cell_type": "code",
   "execution_count": null,
   "metadata": {},
   "outputs": [],
   "source": []
  }
 ],
 "metadata": {
  "kernelspec": {
   "display_name": "Python 3",
   "language": "python",
   "name": "python3"
  },
  "language_info": {
   "codemirror_mode": {
    "name": "ipython",
    "version": 3
   },
   "file_extension": ".py",
   "mimetype": "text/x-python",
   "name": "python",
   "nbconvert_exporter": "python",
   "pygments_lexer": "ipython3",
   "version": "3.7.6"
  }
 },
 "nbformat": 4,
 "nbformat_minor": 4
}
