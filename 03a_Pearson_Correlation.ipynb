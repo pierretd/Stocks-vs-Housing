{
 "cells": [
  {
   "cell_type": "code",
   "execution_count": 44,
   "metadata": {},
   "outputs": [],
   "source": [
    "#do with standard\n",
    "import config\n",
    "import os\n",
    "import pandas as pd\n",
    "from sklearn.preprocessing import MinMaxScaler"
   ]
  },
  {
   "cell_type": "code",
   "execution_count": 12,
   "metadata": {},
   "outputs": [],
   "source": [
    "rc = pd.read_csv('data/RC.csv')"
   ]
  },
  {
   "cell_type": "code",
   "execution_count": 41,
   "metadata": {},
   "outputs": [
    {
     "data": {
      "text/html": [
       "<div>\n",
       "<style scoped>\n",
       "    .dataframe tbody tr th:only-of-type {\n",
       "        vertical-align: middle;\n",
       "    }\n",
       "\n",
       "    .dataframe tbody tr th {\n",
       "        vertical-align: top;\n",
       "    }\n",
       "\n",
       "    .dataframe thead th {\n",
       "        text-align: right;\n",
       "    }\n",
       "</style>\n",
       "<table border=\"1\" class=\"dataframe\">\n",
       "  <thead>\n",
       "    <tr style=\"text-align: right;\">\n",
       "      <th></th>\n",
       "      <th>Date</th>\n",
       "      <th>Cost Index</th>\n",
       "      <th>Year Composite</th>\n",
       "    </tr>\n",
       "  </thead>\n",
       "  <tbody>\n",
       "    <tr>\n",
       "      <th>count</th>\n",
       "      <td>129.000000</td>\n",
       "      <td>129.000000</td>\n",
       "      <td>129.000000</td>\n",
       "    </tr>\n",
       "    <tr>\n",
       "      <th>mean</th>\n",
       "      <td>1954.000000</td>\n",
       "      <td>65.515839</td>\n",
       "      <td>308.655323</td>\n",
       "    </tr>\n",
       "    <tr>\n",
       "      <th>std</th>\n",
       "      <td>37.383151</td>\n",
       "      <td>19.288464</td>\n",
       "      <td>568.733520</td>\n",
       "    </tr>\n",
       "    <tr>\n",
       "      <th>min</th>\n",
       "      <td>1890.000000</td>\n",
       "      <td>32.805185</td>\n",
       "      <td>4.233333</td>\n",
       "    </tr>\n",
       "    <tr>\n",
       "      <th>25%</th>\n",
       "      <td>1922.000000</td>\n",
       "      <td>49.420634</td>\n",
       "      <td>9.235000</td>\n",
       "    </tr>\n",
       "    <tr>\n",
       "      <th>50%</th>\n",
       "      <td>1954.000000</td>\n",
       "      <td>64.044606</td>\n",
       "      <td>29.689167</td>\n",
       "    </tr>\n",
       "    <tr>\n",
       "      <th>75%</th>\n",
       "      <td>1986.000000</td>\n",
       "      <td>82.794848</td>\n",
       "      <td>236.358333</td>\n",
       "    </tr>\n",
       "    <tr>\n",
       "      <th>max</th>\n",
       "      <td>2018.000000</td>\n",
       "      <td>100.568840</td>\n",
       "      <td>2744.680000</td>\n",
       "    </tr>\n",
       "  </tbody>\n",
       "</table>\n",
       "</div>"
      ],
      "text/plain": [
       "              Date  Cost Index  Year Composite\n",
       "count   129.000000  129.000000      129.000000\n",
       "mean   1954.000000   65.515839      308.655323\n",
       "std      37.383151   19.288464      568.733520\n",
       "min    1890.000000   32.805185        4.233333\n",
       "25%    1922.000000   49.420634        9.235000\n",
       "50%    1954.000000   64.044606       29.689167\n",
       "75%    1986.000000   82.794848      236.358333\n",
       "max    2018.000000  100.568840     2744.680000"
      ]
     },
     "execution_count": 41,
     "metadata": {},
     "output_type": "execute_result"
    }
   ],
   "source": [
    "rc.describe()"
   ]
  },
  {
   "cell_type": "code",
   "execution_count": 45,
   "metadata": {},
   "outputs": [
    {
     "data": {
      "text/html": [
       "<div>\n",
       "<style scoped>\n",
       "    .dataframe tbody tr th:only-of-type {\n",
       "        vertical-align: middle;\n",
       "    }\n",
       "\n",
       "    .dataframe tbody tr th {\n",
       "        vertical-align: top;\n",
       "    }\n",
       "\n",
       "    .dataframe thead th {\n",
       "        text-align: right;\n",
       "    }\n",
       "</style>\n",
       "<table border=\"1\" class=\"dataframe\">\n",
       "  <thead>\n",
       "    <tr style=\"text-align: right;\">\n",
       "      <th></th>\n",
       "      <th>Cost Index</th>\n",
       "      <th>Year Composite</th>\n",
       "      <th>Date</th>\n",
       "    </tr>\n",
       "  </thead>\n",
       "  <tbody>\n",
       "    <tr>\n",
       "      <th>0</th>\n",
       "      <td>0.861429</td>\n",
       "      <td>1.000000</td>\n",
       "      <td>2018</td>\n",
       "    </tr>\n",
       "    <tr>\n",
       "      <th>1</th>\n",
       "      <td>0.846391</td>\n",
       "      <td>0.891820</td>\n",
       "      <td>2017</td>\n",
       "    </tr>\n",
       "    <tr>\n",
       "      <th>2</th>\n",
       "      <td>0.836152</td>\n",
       "      <td>0.761778</td>\n",
       "      <td>2016</td>\n",
       "    </tr>\n",
       "    <tr>\n",
       "      <th>3</th>\n",
       "      <td>0.824170</td>\n",
       "      <td>0.750595</td>\n",
       "      <td>2015</td>\n",
       "    </tr>\n",
       "    <tr>\n",
       "      <th>4</th>\n",
       "      <td>0.791969</td>\n",
       "      <td>0.702964</td>\n",
       "      <td>2014</td>\n",
       "    </tr>\n",
       "  </tbody>\n",
       "</table>\n",
       "</div>"
      ],
      "text/plain": [
       "   Cost Index  Year Composite  Date\n",
       "0    0.861429        1.000000  2018\n",
       "1    0.846391        0.891820  2017\n",
       "2    0.836152        0.761778  2016\n",
       "3    0.824170        0.750595  2015\n",
       "4    0.791969        0.702964  2014"
      ]
     },
     "execution_count": 45,
     "metadata": {},
     "output_type": "execute_result"
    }
   ],
   "source": [
    "scaler=MinMaxScaler()\n",
    "#fit scaler\n",
    "scaler.fit(rc[['Cost Index', 'Year Composite']])\n",
    "#transformed scaled data\n",
    "rc_scaled=scaler.transform(rc[['Cost Index', 'Year Composite']])\n",
    "\n",
    "#rever to dataframe\n",
    "rc_scaled = pd.DataFrame(rc_scaled, columns=['Cost Index', 'Year Composite'])\n",
    "rc_scaled['Date']=rc.Date\n",
    "rc_scaled.head()"
   ]
  },
  {
   "cell_type": "markdown",
   "metadata": {},
   "source": [
    "## Pearson"
   ]
  },
  {
   "cell_type": "code",
   "execution_count": 46,
   "metadata": {},
   "outputs": [
    {
     "data": {
      "text/html": [
       "<div>\n",
       "<style scoped>\n",
       "    .dataframe tbody tr th:only-of-type {\n",
       "        vertical-align: middle;\n",
       "    }\n",
       "\n",
       "    .dataframe tbody tr th {\n",
       "        vertical-align: top;\n",
       "    }\n",
       "\n",
       "    .dataframe thead th {\n",
       "        text-align: right;\n",
       "    }\n",
       "</style>\n",
       "<table border=\"1\" class=\"dataframe\">\n",
       "  <thead>\n",
       "    <tr style=\"text-align: right;\">\n",
       "      <th></th>\n",
       "      <th>Date</th>\n",
       "      <th>Cost Index</th>\n",
       "      <th>Year Composite</th>\n",
       "    </tr>\n",
       "  </thead>\n",
       "  <tbody>\n",
       "    <tr>\n",
       "      <th>Date</th>\n",
       "      <td>1.000000</td>\n",
       "      <td>0.823195</td>\n",
       "      <td>0.720420</td>\n",
       "    </tr>\n",
       "    <tr>\n",
       "      <th>Cost Index</th>\n",
       "      <td>0.823195</td>\n",
       "      <td>1.000000</td>\n",
       "      <td>0.508174</td>\n",
       "    </tr>\n",
       "    <tr>\n",
       "      <th>Year Composite</th>\n",
       "      <td>0.720420</td>\n",
       "      <td>0.508174</td>\n",
       "      <td>1.000000</td>\n",
       "    </tr>\n",
       "  </tbody>\n",
       "</table>\n",
       "</div>"
      ],
      "text/plain": [
       "                    Date  Cost Index  Year Composite\n",
       "Date            1.000000    0.823195        0.720420\n",
       "Cost Index      0.823195    1.000000        0.508174\n",
       "Year Composite  0.720420    0.508174        1.000000"
      ]
     },
     "execution_count": 46,
     "metadata": {},
     "output_type": "execute_result"
    }
   ],
   "source": [
    "rc.corr()"
   ]
  },
  {
   "cell_type": "code",
   "execution_count": 85,
   "metadata": {},
   "outputs": [
    {
     "name": "stdout",
     "output_type": "stream",
     "text": [
      "Pandas computed Pearson r: 0.7204202996733304\n"
     ]
    }
   ],
   "source": [
    "import pandas as pd\n",
    "import numpy as np\n",
    "%matplotlib inline\n",
    "import matplotlib.pyplot as plt\n",
    "import seaborn as sns\n",
    "import scipy.stats as stats\n",
    "df = rc_scaled\n",
    "overall_pearson_r = df.corr().iloc[1,2]\n",
    "print(f\"Pandas computed Pearson r: {overall_pearson_r}\")\n",
    "# out: Pandas computed Pearson r: 0.2058774513561943"
   ]
  },
  {
   "cell_type": "code",
   "execution_count": 86,
   "metadata": {},
   "outputs": [
    {
     "name": "stdout",
     "output_type": "stream",
     "text": [
      "Scipy computed Pearson r: 0.5081742916268339 and p-value: 7.864393084155875e-10\n"
     ]
    }
   ],
   "source": [
    "r, p = stats.pearsonr(df.dropna()['Cost Index'], df.dropna()['Year Composite'])\n",
    "print(f\"Scipy computed Pearson r: {r} and p-value: {p}\")\n",
    "# out: Scipy computed Pearson r: 0.20587745135619354 and p-value: 3.7902989479463397e-51"
   ]
  },
  {
   "cell_type": "code",
   "execution_count": 87,
   "metadata": {},
   "outputs": [],
   "source": [
    "df1 = df.drop(['Date'], axis=1)"
   ]
  },
  {
   "cell_type": "code",
   "execution_count": 88,
   "metadata": {},
   "outputs": [
    {
     "data": {
      "image/png": "[encoded data removed]",
      "text/plain": [
       "<Figure size 504x216 with 1 Axes>"
      ]
     },
     "metadata": {
      "needs_background": "light"
     },
     "output_type": "display_data"
    }
   ],
   "source": [
    "# Compute rolling window synchrony\n",
    "f,ax=plt.subplots(figsize=(7,3))\n",
    "df1.rolling(window=30,center=True).median().plot(ax=ax)\n",
    "ax.set(xlabel='Time',ylabel='Pearson r')\n",
    "ax.set(title=f\"Overall Pearson r = {np.round(overall_pearson_r,2)}\");"
   ]
  },
  {
   "cell_type": "code",
   "execution_count": 89,
   "metadata": {},
   "outputs": [
    {
     "data": {
      "text/plain": [
       "Text(0.5, 0.98, 'Smiling data and rolling window correlation')"
      ]
     },
     "execution_count": 89,
     "metadata": {},
     "output_type": "execute_result"
    },
    {
     "data": {
      "image/png": "[encoded data removed]",
      "text/plain": [
       "<Figure size 1008x432 with 2 Axes>"
      ]
     },
     "metadata": {
      "needs_background": "light"
     },
     "output_type": "display_data"
    }
   ],
   "source": [
    "# Set window size to compute moving window synchrony.\n",
    "r_window_size = 5\n",
    "# Interpolate missing data.\n",
    "df_interpolated = df.interpolate()\n",
    "# Compute rolling window synchrony\n",
    "rolling_r = df_interpolated['Cost Index'].rolling(window=r_window_size, center=True).corr(df_interpolated['Year Composite'])\n",
    "f,ax=plt.subplots(2,1,figsize=(14,6),sharex=True)\n",
    "df.rolling(window=30,center=True).median().plot(ax=ax[0])\n",
    "ax[0].set(xlabel='Frame',ylabel='Smiling Evidence')\n",
    "rolling_r.plot(ax=ax[1])\n",
    "ax[1].set(xlabel='Frame',ylabel='Pearson r')\n",
    "plt.suptitle(\"Smiling data and rolling window correlation\")"
   ]
  },
  {
   "cell_type": "code",
   "execution_count": 92,
   "metadata": {},
   "outputs": [
    {
     "data": {
      "text/html": [
       "<div>\n",
       "<style scoped>\n",
       "    .dataframe tbody tr th:only-of-type {\n",
       "        vertical-align: middle;\n",
       "    }\n",
       "\n",
       "    .dataframe tbody tr th {\n",
       "        vertical-align: top;\n",
       "    }\n",
       "\n",
       "    .dataframe thead th {\n",
       "        text-align: right;\n",
       "    }\n",
       "</style>\n",
       "<table border=\"1\" class=\"dataframe\">\n",
       "  <thead>\n",
       "    <tr style=\"text-align: right;\">\n",
       "      <th></th>\n",
       "      <th>Cost Index</th>\n",
       "      <th>Year Composite</th>\n",
       "      <th>Date</th>\n",
       "    </tr>\n",
       "  </thead>\n",
       "  <tbody>\n",
       "    <tr>\n",
       "      <th>Cost Index</th>\n",
       "      <td>1.000000</td>\n",
       "      <td>0.792213</td>\n",
       "      <td>0.806887</td>\n",
       "    </tr>\n",
       "    <tr>\n",
       "      <th>Year Composite</th>\n",
       "      <td>0.792213</td>\n",
       "      <td>1.000000</td>\n",
       "      <td>0.978052</td>\n",
       "    </tr>\n",
       "    <tr>\n",
       "      <th>Date</th>\n",
       "      <td>0.806887</td>\n",
       "      <td>0.978052</td>\n",
       "      <td>1.000000</td>\n",
       "    </tr>\n",
       "  </tbody>\n",
       "</table>\n",
       "</div>"
      ],
      "text/plain": [
       "                Cost Index  Year Composite      Date\n",
       "Cost Index        1.000000        0.792213  0.806887\n",
       "Year Composite    0.792213        1.000000  0.978052\n",
       "Date              0.806887        0.978052  1.000000"
      ]
     },
     "execution_count": 92,
     "metadata": {},
     "output_type": "execute_result"
    }
   ],
   "source": [
    "df.corr(method='spearman')  # Spearman's rho"
   ]
  },
  {
   "cell_type": "code",
   "execution_count": 93,
   "metadata": {},
   "outputs": [
    {
     "data": {
      "text/html": [
       "<div>\n",
       "<style scoped>\n",
       "    .dataframe tbody tr th:only-of-type {\n",
       "        vertical-align: middle;\n",
       "    }\n",
       "\n",
       "    .dataframe tbody tr th {\n",
       "        vertical-align: top;\n",
       "    }\n",
       "\n",
       "    .dataframe thead th {\n",
       "        text-align: right;\n",
       "    }\n",
       "</style>\n",
       "<table border=\"1\" class=\"dataframe\">\n",
       "  <thead>\n",
       "    <tr style=\"text-align: right;\">\n",
       "      <th></th>\n",
       "      <th>Cost Index</th>\n",
       "      <th>Year Composite</th>\n",
       "      <th>Date</th>\n",
       "    </tr>\n",
       "  </thead>\n",
       "  <tbody>\n",
       "    <tr>\n",
       "      <th>Cost Index</th>\n",
       "      <td>1.000000</td>\n",
       "      <td>0.571221</td>\n",
       "      <td>0.592054</td>\n",
       "    </tr>\n",
       "    <tr>\n",
       "      <th>Year Composite</th>\n",
       "      <td>0.571221</td>\n",
       "      <td>1.000000</td>\n",
       "      <td>0.893411</td>\n",
       "    </tr>\n",
       "    <tr>\n",
       "      <th>Date</th>\n",
       "      <td>0.592054</td>\n",
       "      <td>0.893411</td>\n",
       "      <td>1.000000</td>\n",
       "    </tr>\n",
       "  </tbody>\n",
       "</table>\n",
       "</div>"
      ],
      "text/plain": [
       "                Cost Index  Year Composite      Date\n",
       "Cost Index        1.000000        0.571221  0.592054\n",
       "Year Composite    0.571221        1.000000  0.893411\n",
       "Date              0.592054        0.893411  1.000000"
      ]
     },
     "execution_count": 93,
     "metadata": {},
     "output_type": "execute_result"
    }
   ],
   "source": [
    "df.corr(method='kendall')   # Kendall's tau\n"
   ]
  },
  {
   "cell_type": "code",
   "execution_count": null,
   "metadata": {},
   "outputs": [],
   "source": []
  }
 ],
 "metadata": {
  "kernelspec": {
   "display_name": "Python 3",
   "language": "python",
   "name": "python3"
  },
  "language_info": {
   "codemirror_mode": {
    "name": "ipython",
    "version": 3
   },
   "file_extension": ".py",
   "mimetype": "text/x-python",
   "name": "python",
   "nbconvert_exporter": "python",
   "pygments_lexer": "ipython3",
   "version": "3.7.6"
  }
 },
 "nbformat": 4,
 "nbformat_minor": 4
}
